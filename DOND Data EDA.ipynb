{
 "cells": [
  {
   "cell_type": "markdown",
   "id": "26f22661",
   "metadata": {},
   "source": [
    "# DOND Data!"
   ]
  },
  {
   "cell_type": "code",
   "execution_count": 8,
   "id": "bd9ea7f7",
   "metadata": {
    "scrolled": false
   },
   "outputs": [
    {
     "data": {
      "text/html": [
       "<div>\n",
       "<style scoped>\n",
       "    .dataframe tbody tr th:only-of-type {\n",
       "        vertical-align: middle;\n",
       "    }\n",
       "\n",
       "    .dataframe tbody tr th {\n",
       "        vertical-align: top;\n",
       "    }\n",
       "\n",
       "    .dataframe thead th {\n",
       "        text-align: right;\n",
       "    }\n",
       "</style>\n",
       "<table border=\"1\" class=\"dataframe\">\n",
       "  <thead>\n",
       "    <tr style=\"text-align: right;\">\n",
       "      <th></th>\n",
       "      <th>ID Number</th>\n",
       "      <th>Broadcast Date</th>\n",
       "      <th>Name</th>\n",
       "      <th>Education</th>\n",
       "      <th>Gender</th>\n",
       "      <th>Age</th>\n",
       "      <th>Stop Round</th>\n",
       "      <th>Amount Won</th>\n",
       "      <th>ROUND</th>\n",
       "      <th>Deal / No Deal</th>\n",
       "      <th>Bank Offer</th>\n",
       "    </tr>\n",
       "  </thead>\n",
       "  <tbody>\n",
       "    <tr>\n",
       "      <th>0</th>\n",
       "      <td>NL1.001</td>\n",
       "      <td>22/12/02</td>\n",
       "      <td>Hans</td>\n",
       "      <td>L</td>\n",
       "      <td>M</td>\n",
       "      <td>45</td>\n",
       "      <td>7</td>\n",
       "      <td>189,000</td>\n",
       "      <td>1</td>\n",
       "      <td>ND</td>\n",
       "      <td>29,000</td>\n",
       "    </tr>\n",
       "    <tr>\n",
       "      <th>1</th>\n",
       "      <td>NL1.001</td>\n",
       "      <td>22/12/02</td>\n",
       "      <td>Hans</td>\n",
       "      <td>L</td>\n",
       "      <td>M</td>\n",
       "      <td>45</td>\n",
       "      <td>7</td>\n",
       "      <td>189,000</td>\n",
       "      <td>2</td>\n",
       "      <td>ND</td>\n",
       "      <td>47,000</td>\n",
       "    </tr>\n",
       "    <tr>\n",
       "      <th>2</th>\n",
       "      <td>NL1.001</td>\n",
       "      <td>22/12/02</td>\n",
       "      <td>Hans</td>\n",
       "      <td>L</td>\n",
       "      <td>M</td>\n",
       "      <td>45</td>\n",
       "      <td>7</td>\n",
       "      <td>189,000</td>\n",
       "      <td>3</td>\n",
       "      <td>ND</td>\n",
       "      <td>99,000</td>\n",
       "    </tr>\n",
       "    <tr>\n",
       "      <th>3</th>\n",
       "      <td>NL1.001</td>\n",
       "      <td>22/12/02</td>\n",
       "      <td>Hans</td>\n",
       "      <td>L</td>\n",
       "      <td>M</td>\n",
       "      <td>45</td>\n",
       "      <td>7</td>\n",
       "      <td>189,000</td>\n",
       "      <td>4</td>\n",
       "      <td>ND</td>\n",
       "      <td>349,000</td>\n",
       "    </tr>\n",
       "    <tr>\n",
       "      <th>4</th>\n",
       "      <td>NL1.001</td>\n",
       "      <td>22/12/02</td>\n",
       "      <td>Hans</td>\n",
       "      <td>L</td>\n",
       "      <td>M</td>\n",
       "      <td>45</td>\n",
       "      <td>7</td>\n",
       "      <td>189,000</td>\n",
       "      <td>5</td>\n",
       "      <td>ND</td>\n",
       "      <td>163,000</td>\n",
       "    </tr>\n",
       "    <tr>\n",
       "      <th>...</th>\n",
       "      <td>...</td>\n",
       "      <td>...</td>\n",
       "      <td>...</td>\n",
       "      <td>...</td>\n",
       "      <td>...</td>\n",
       "      <td>...</td>\n",
       "      <td>...</td>\n",
       "      <td>...</td>\n",
       "      <td>...</td>\n",
       "      <td>...</td>\n",
       "      <td>...</td>\n",
       "    </tr>\n",
       "    <tr>\n",
       "      <th>662</th>\n",
       "      <td>USX.006</td>\n",
       "      <td>-</td>\n",
       "      <td>Casey</td>\n",
       "      <td>H</td>\n",
       "      <td>F</td>\n",
       "      <td>32</td>\n",
       "      <td>7</td>\n",
       "      <td>196,000</td>\n",
       "      <td>3</td>\n",
       "      <td>ND</td>\n",
       "      <td>88,000</td>\n",
       "    </tr>\n",
       "    <tr>\n",
       "      <th>663</th>\n",
       "      <td>USX.006</td>\n",
       "      <td>-</td>\n",
       "      <td>Casey</td>\n",
       "      <td>H</td>\n",
       "      <td>F</td>\n",
       "      <td>32</td>\n",
       "      <td>7</td>\n",
       "      <td>196,000</td>\n",
       "      <td>4</td>\n",
       "      <td>ND</td>\n",
       "      <td>175,000</td>\n",
       "    </tr>\n",
       "    <tr>\n",
       "      <th>664</th>\n",
       "      <td>USX.006</td>\n",
       "      <td>-</td>\n",
       "      <td>Casey</td>\n",
       "      <td>H</td>\n",
       "      <td>F</td>\n",
       "      <td>32</td>\n",
       "      <td>7</td>\n",
       "      <td>196,000</td>\n",
       "      <td>5</td>\n",
       "      <td>ND</td>\n",
       "      <td>79,000</td>\n",
       "    </tr>\n",
       "    <tr>\n",
       "      <th>665</th>\n",
       "      <td>USX.006</td>\n",
       "      <td>-</td>\n",
       "      <td>Casey</td>\n",
       "      <td>H</td>\n",
       "      <td>F</td>\n",
       "      <td>32</td>\n",
       "      <td>7</td>\n",
       "      <td>196,000</td>\n",
       "      <td>6</td>\n",
       "      <td>ND</td>\n",
       "      <td>144,000</td>\n",
       "    </tr>\n",
       "    <tr>\n",
       "      <th>666</th>\n",
       "      <td>USX.006</td>\n",
       "      <td>-</td>\n",
       "      <td>Casey</td>\n",
       "      <td>H</td>\n",
       "      <td>F</td>\n",
       "      <td>32</td>\n",
       "      <td>7</td>\n",
       "      <td>196,000</td>\n",
       "      <td>7</td>\n",
       "      <td>D</td>\n",
       "      <td>196,000</td>\n",
       "    </tr>\n",
       "  </tbody>\n",
       "</table>\n",
       "<p>667 rows × 11 columns</p>\n",
       "</div>"
      ],
      "text/plain": [
       "    ID Number Broadcast Date   Name Education Gender  Age  Stop Round  \\\n",
       "0     NL1.001       22/12/02   Hans         L      M   45           7   \n",
       "1     NL1.001       22/12/02   Hans         L      M   45           7   \n",
       "2     NL1.001       22/12/02   Hans         L      M   45           7   \n",
       "3     NL1.001       22/12/02   Hans         L      M   45           7   \n",
       "4     NL1.001       22/12/02   Hans         L      M   45           7   \n",
       "..        ...            ...    ...       ...    ...  ...         ...   \n",
       "662   USX.006              -  Casey         H      F   32           7   \n",
       "663   USX.006              -  Casey         H      F   32           7   \n",
       "664   USX.006              -  Casey         H      F   32           7   \n",
       "665   USX.006              -  Casey         H      F   32           7   \n",
       "666   USX.006              -  Casey         H      F   32           7   \n",
       "\n",
       "    Amount Won  ROUND Deal / No Deal Bank Offer  \n",
       "0      189,000      1             ND     29,000  \n",
       "1      189,000      2             ND     47,000  \n",
       "2      189,000      3             ND     99,000  \n",
       "3      189,000      4             ND    349,000  \n",
       "4      189,000      5             ND    163,000  \n",
       "..         ...    ...            ...        ...  \n",
       "662    196,000      3             ND     88,000  \n",
       "663    196,000      4             ND    175,000  \n",
       "664    196,000      5             ND     79,000  \n",
       "665    196,000      6             ND    144,000  \n",
       "666    196,000      7              D    196,000  \n",
       "\n",
       "[667 rows x 11 columns]"
      ]
     },
     "execution_count": 8,
     "metadata": {},
     "output_type": "execute_result"
    }
   ],
   "source": [
    "import pandas as pd\n",
    "dond = pd.read_csv('dond_data.txt', sep=\"\\t\")\n",
    "dond"
   ]
  },
  {
   "cell_type": "markdown",
   "id": "bcfecc10",
   "metadata": {},
   "source": [
    "Convert amount won/bank offer to numeric"
   ]
  },
  {
   "cell_type": "code",
   "execution_count": 9,
   "id": "07e38e19",
   "metadata": {},
   "outputs": [],
   "source": [
    "dond = dond.replace(',','', regex=True)\n",
    "dond['Amount Won'] = pd.to_numeric(dond['Amount Won'])\n",
    "dond['Bank Offer'] = pd.to_numeric(dond['Bank Offer'])"
   ]
  },
  {
   "cell_type": "markdown",
   "id": "a979db80",
   "metadata": {},
   "source": [
    "New table with only deals:"
   ]
  },
  {
   "cell_type": "code",
   "execution_count": 10,
   "id": "e02c29aa",
   "metadata": {},
   "outputs": [
    {
     "data": {
      "text/html": [
       "<div>\n",
       "<style scoped>\n",
       "    .dataframe tbody tr th:only-of-type {\n",
       "        vertical-align: middle;\n",
       "    }\n",
       "\n",
       "    .dataframe tbody tr th {\n",
       "        vertical-align: top;\n",
       "    }\n",
       "\n",
       "    .dataframe thead th {\n",
       "        text-align: right;\n",
       "    }\n",
       "</style>\n",
       "<table border=\"1\" class=\"dataframe\">\n",
       "  <thead>\n",
       "    <tr style=\"text-align: right;\">\n",
       "      <th></th>\n",
       "      <th>ID Number</th>\n",
       "      <th>Broadcast Date</th>\n",
       "      <th>Name</th>\n",
       "      <th>Education</th>\n",
       "      <th>Gender</th>\n",
       "      <th>Age</th>\n",
       "      <th>Stop Round</th>\n",
       "      <th>Amount Won</th>\n",
       "      <th>ROUND</th>\n",
       "      <th>Deal / No Deal</th>\n",
       "      <th>Bank Offer</th>\n",
       "    </tr>\n",
       "  </thead>\n",
       "  <tbody>\n",
       "    <tr>\n",
       "      <th>6</th>\n",
       "      <td>NL1.001</td>\n",
       "      <td>22/12/02</td>\n",
       "      <td>Hans</td>\n",
       "      <td>L</td>\n",
       "      <td>M</td>\n",
       "      <td>45</td>\n",
       "      <td>7</td>\n",
       "      <td>189000</td>\n",
       "      <td>7</td>\n",
       "      <td>D</td>\n",
       "      <td>189000</td>\n",
       "    </tr>\n",
       "    <tr>\n",
       "      <th>10</th>\n",
       "      <td>NL1.002</td>\n",
       "      <td>29/12/02</td>\n",
       "      <td>Rinus</td>\n",
       "      <td>H</td>\n",
       "      <td>M</td>\n",
       "      <td>57</td>\n",
       "      <td>4</td>\n",
       "      <td>151000</td>\n",
       "      <td>4</td>\n",
       "      <td>D</td>\n",
       "      <td>151000</td>\n",
       "    </tr>\n",
       "    <tr>\n",
       "      <th>13</th>\n",
       "      <td>NL1.003</td>\n",
       "      <td>05/01/03</td>\n",
       "      <td>Jack</td>\n",
       "      <td>H</td>\n",
       "      <td>M</td>\n",
       "      <td>53</td>\n",
       "      <td>3</td>\n",
       "      <td>173000</td>\n",
       "      <td>3</td>\n",
       "      <td>D</td>\n",
       "      <td>173000</td>\n",
       "    </tr>\n",
       "    <tr>\n",
       "      <th>19</th>\n",
       "      <td>NL1.004</td>\n",
       "      <td>12/01/03</td>\n",
       "      <td>Ronald</td>\n",
       "      <td>H</td>\n",
       "      <td>M</td>\n",
       "      <td>42</td>\n",
       "      <td>6</td>\n",
       "      <td>61500</td>\n",
       "      <td>6</td>\n",
       "      <td>D</td>\n",
       "      <td>61500</td>\n",
       "    </tr>\n",
       "    <tr>\n",
       "      <th>22</th>\n",
       "      <td>NL1.005</td>\n",
       "      <td>26/01/03</td>\n",
       "      <td>Wim</td>\n",
       "      <td>L</td>\n",
       "      <td>M</td>\n",
       "      <td>41</td>\n",
       "      <td>3</td>\n",
       "      <td>244000</td>\n",
       "      <td>3</td>\n",
       "      <td>D</td>\n",
       "      <td>244000</td>\n",
       "    </tr>\n",
       "    <tr>\n",
       "      <th>...</th>\n",
       "      <td>...</td>\n",
       "      <td>...</td>\n",
       "      <td>...</td>\n",
       "      <td>...</td>\n",
       "      <td>...</td>\n",
       "      <td>...</td>\n",
       "      <td>...</td>\n",
       "      <td>...</td>\n",
       "      <td>...</td>\n",
       "      <td>...</td>\n",
       "      <td>...</td>\n",
       "    </tr>\n",
       "    <tr>\n",
       "      <th>633</th>\n",
       "      <td>USX.002</td>\n",
       "      <td>01/03/06</td>\n",
       "      <td>Cindy</td>\n",
       "      <td>L</td>\n",
       "      <td>F</td>\n",
       "      <td>50</td>\n",
       "      <td>7</td>\n",
       "      <td>407000</td>\n",
       "      <td>7</td>\n",
       "      <td>D</td>\n",
       "      <td>407000</td>\n",
       "    </tr>\n",
       "    <tr>\n",
       "      <th>642</th>\n",
       "      <td>USX.003</td>\n",
       "      <td>01/03/06</td>\n",
       "      <td>Sherman</td>\n",
       "      <td>H</td>\n",
       "      <td>M</td>\n",
       "      <td>35</td>\n",
       "      <td>9</td>\n",
       "      <td>250000</td>\n",
       "      <td>9</td>\n",
       "      <td>D</td>\n",
       "      <td>250000</td>\n",
       "    </tr>\n",
       "    <tr>\n",
       "      <th>650</th>\n",
       "      <td>USX.004</td>\n",
       "      <td>02/03/06</td>\n",
       "      <td>Becky</td>\n",
       "      <td>L</td>\n",
       "      <td>F</td>\n",
       "      <td>28</td>\n",
       "      <td>8</td>\n",
       "      <td>85000</td>\n",
       "      <td>8</td>\n",
       "      <td>D</td>\n",
       "      <td>85000</td>\n",
       "    </tr>\n",
       "    <tr>\n",
       "      <th>659</th>\n",
       "      <td>USX.005</td>\n",
       "      <td>03/03/06</td>\n",
       "      <td>Joe</td>\n",
       "      <td>H</td>\n",
       "      <td>M</td>\n",
       "      <td>49</td>\n",
       "      <td>9</td>\n",
       "      <td>5000</td>\n",
       "      <td>9</td>\n",
       "      <td>D</td>\n",
       "      <td>5000</td>\n",
       "    </tr>\n",
       "    <tr>\n",
       "      <th>666</th>\n",
       "      <td>USX.006</td>\n",
       "      <td>-</td>\n",
       "      <td>Casey</td>\n",
       "      <td>H</td>\n",
       "      <td>F</td>\n",
       "      <td>32</td>\n",
       "      <td>7</td>\n",
       "      <td>196000</td>\n",
       "      <td>7</td>\n",
       "      <td>D</td>\n",
       "      <td>196000</td>\n",
       "    </tr>\n",
       "  </tbody>\n",
       "</table>\n",
       "<p>97 rows × 11 columns</p>\n",
       "</div>"
      ],
      "text/plain": [
       "    ID Number Broadcast Date     Name Education Gender  Age  Stop Round  \\\n",
       "6     NL1.001       22/12/02     Hans         L      M   45           7   \n",
       "10    NL1.002       29/12/02    Rinus         H      M   57           4   \n",
       "13    NL1.003       05/01/03     Jack         H      M   53           3   \n",
       "19    NL1.004       12/01/03   Ronald         H      M   42           6   \n",
       "22    NL1.005       26/01/03      Wim         L      M   41           3   \n",
       "..        ...            ...      ...       ...    ...  ...         ...   \n",
       "633   USX.002       01/03/06    Cindy         L      F   50           7   \n",
       "642   USX.003       01/03/06  Sherman         H      M   35           9   \n",
       "650   USX.004       02/03/06    Becky         L      F   28           8   \n",
       "659   USX.005       03/03/06      Joe         H      M   49           9   \n",
       "666   USX.006              -    Casey         H      F   32           7   \n",
       "\n",
       "     Amount Won  ROUND Deal / No Deal  Bank Offer  \n",
       "6        189000      7              D      189000  \n",
       "10       151000      4              D      151000  \n",
       "13       173000      3              D      173000  \n",
       "19        61500      6              D       61500  \n",
       "22       244000      3              D      244000  \n",
       "..          ...    ...            ...         ...  \n",
       "633      407000      7              D      407000  \n",
       "642      250000      9              D      250000  \n",
       "650       85000      8              D       85000  \n",
       "659        5000      9              D        5000  \n",
       "666      196000      7              D      196000  \n",
       "\n",
       "[97 rows x 11 columns]"
      ]
     },
     "execution_count": 10,
     "metadata": {},
     "output_type": "execute_result"
    }
   ],
   "source": [
    "dond.rename(columns=dond.iloc[0])\n",
    "dond = dond[dond['Deal / No Deal'] != 'ND']\n",
    "dond"
   ]
  },
  {
   "cell_type": "markdown",
   "id": "d1bd1c77",
   "metadata": {},
   "source": [
    "Gender compositions of H / L education"
   ]
  },
  {
   "cell_type": "code",
   "execution_count": 11,
   "id": "496a661a",
   "metadata": {},
   "outputs": [
    {
     "data": {
      "text/plain": [
       "<AxesSubplot:xlabel='Education'>"
      ]
     },
     "execution_count": 11,
     "metadata": {},
     "output_type": "execute_result"
    },
    {
     "data": {
      "image/png": "[encoded data removed]",
      "text/plain": [
       "<Figure size 1000x600 with 1 Axes>"
      ]
     },
     "metadata": {},
     "output_type": "display_data"
    }
   ],
   "source": [
    "myColors = ['r', 'b']\n",
    "dond.groupby('Education')['Gender'].value_counts().unstack().plot(kind = 'bar', stacked = True, figsize = (10,6), color = myColors)"
   ]
  },
  {
   "cell_type": "markdown",
   "id": "89070870",
   "metadata": {},
   "source": [
    "Counts for age and gender:"
   ]
  },
  {
   "cell_type": "code",
   "execution_count": 12,
   "id": "be0625eb",
   "metadata": {},
   "outputs": [
    {
     "data": {
      "text/plain": [
       "M    58\n",
       "F    39\n",
       "Name: Gender, dtype: int64"
      ]
     },
     "execution_count": 12,
     "metadata": {},
     "output_type": "execute_result"
    }
   ],
   "source": [
    "dond['Gender'].value_counts()"
   ]
  },
  {
   "cell_type": "code",
   "execution_count": 13,
   "id": "72d686d8",
   "metadata": {},
   "outputs": [
    {
     "data": {
      "text/plain": [
       "H    51\n",
       "L    46\n",
       "Name: Education, dtype: int64"
      ]
     },
     "execution_count": 13,
     "metadata": {},
     "output_type": "execute_result"
    }
   ],
   "source": [
    "dond['Education'].value_counts()"
   ]
  },
  {
   "cell_type": "markdown",
   "id": "4363d555",
   "metadata": {},
   "source": [
    "Some stats on age:"
   ]
  },
  {
   "cell_type": "code",
   "execution_count": 14,
   "id": "dbba80af",
   "metadata": {
    "scrolled": false
   },
   "outputs": [
    {
     "data": {
      "text/plain": [
       "<AxesSubplot:>"
      ]
     },
     "execution_count": 14,
     "metadata": {},
     "output_type": "execute_result"
    },
    {
     "data": {
      "image/png": "[encoded data removed]",
      "text/plain": [
       "<Figure size 200x400 with 1 Axes>"
      ]
     },
     "metadata": {},
     "output_type": "display_data"
    }
   ],
   "source": [
    "dond['Age'].plot(kind = 'box', figsize = (2,4))"
   ]
  },
  {
   "cell_type": "code",
   "execution_count": 16,
   "id": "30d51a46",
   "metadata": {
    "scrolled": true
   },
   "outputs": [
    {
     "data": {
      "text/plain": [
       "<AxesSubplot:ylabel='Frequency'>"
      ]
     },
     "execution_count": 16,
     "metadata": {},
     "output_type": "execute_result"
    },
    {
     "data": {
      "image/png": "[encoded data removed]",
      "text/plain": [
       "<Figure size 640x480 with 1 Axes>"
      ]
     },
     "metadata": {},
     "output_type": "display_data"
    }
   ],
   "source": [
    "dond['Age'].plot(kind = 'hist')"
   ]
  },
  {
   "cell_type": "code",
   "execution_count": 171,
   "id": "dfd53dc6",
   "metadata": {},
   "outputs": [
    {
     "data": {
      "text/plain": [
       "<AxesSubplot:>"
      ]
     },
     "execution_count": 171,
     "metadata": {},
     "output_type": "execute_result"
    },
    {
     "data": {
      "image/png": "[encoded data removed]",
      "text/plain": [
       "<Figure size 200x400 with 1 Axes>"
      ]
     },
     "metadata": {},
     "output_type": "display_data"
    }
   ],
   "source": [
    "dond.pivot(columns = 'Gender', values = 'Age').plot(kind = 'box', figsize = (2, 4))"
   ]
  },
  {
   "cell_type": "code",
   "execution_count": 173,
   "id": "14641e9e",
   "metadata": {},
   "outputs": [
    {
     "data": {
      "text/plain": [
       "<AxesSubplot:>"
      ]
     },
     "execution_count": 173,
     "metadata": {},
     "output_type": "execute_result"
    },
    {
     "data": {
      "image/png": "[encoded data removed]",
      "text/plain": [
       "<Figure size 200x400 with 1 Axes>"
      ]
     },
     "metadata": {},
     "output_type": "display_data"
    }
   ],
   "source": [
    "dond.pivot(columns = 'Education', values = 'Age').plot(kind = 'box', figsize = (2,4))"
   ]
  },
  {
   "cell_type": "markdown",
   "id": "d6c862b1",
   "metadata": {},
   "source": [
    "Stats for Amount Won:"
   ]
  },
  {
   "cell_type": "code",
   "execution_count": 164,
   "id": "5550589d",
   "metadata": {},
   "outputs": [
    {
     "data": {
      "text/plain": [
       "count    6.670000e+02\n",
       "mean     1.624713e+05\n",
       "std      2.124178e+05\n",
       "min      5.000000e+00\n",
       "25%      2.800000e+04\n",
       "50%      9.800000e+04\n",
       "75%      2.015000e+05\n",
       "max      1.495000e+06\n",
       "Name: Amount Won, dtype: float64"
      ]
     },
     "execution_count": 164,
     "metadata": {},
     "output_type": "execute_result"
    }
   ],
   "source": [
    "dond['Amount Won'].describe()"
   ]
  },
  {
   "cell_type": "code",
   "execution_count": 165,
   "id": "3fdb7181",
   "metadata": {},
   "outputs": [
    {
     "data": {
      "text/plain": [
       "<AxesSubplot:>"
      ]
     },
     "execution_count": 165,
     "metadata": {},
     "output_type": "execute_result"
    },
    {
     "data": {
      "image/png": "[encoded data removed]",
      "text/plain": [
       "<Figure size 600x600 with 1 Axes>"
      ]
     },
     "metadata": {},
     "output_type": "display_data"
    }
   ],
   "source": [
    "dond['Amount Won'].plot(kind = 'box', figsize = (6,6)) "
   ]
  },
  {
   "cell_type": "code",
   "execution_count": 143,
   "id": "27515926",
   "metadata": {},
   "outputs": [
    {
     "data": {
      "text/plain": [
       "<AxesSubplot:ylabel='Frequency'>"
      ]
     },
     "execution_count": 143,
     "metadata": {},
     "output_type": "execute_result"
    },
    {
     "data": {
      "image/png": "[encoded data removed]",
      "text/plain": [
       "<Figure size 640x480 with 1 Axes>"
      ]
     },
     "metadata": {},
     "output_type": "display_data"
    }
   ],
   "source": [
    "dond['Amount Won'].plot(kind = 'hist', bins=30) "
   ]
  },
  {
   "cell_type": "markdown",
   "id": "07dfd999",
   "metadata": {},
   "source": [
    "Gender and education comparisons of winnings"
   ]
  },
  {
   "cell_type": "code",
   "execution_count": 188,
   "id": "ece9f1bf",
   "metadata": {
    "scrolled": true
   },
   "outputs": [
    {
     "data": {
      "text/plain": [
       "<AxesSubplot:>"
      ]
     },
     "execution_count": 188,
     "metadata": {},
     "output_type": "execute_result"
    },
    {
     "data": {
      "image/png": "[encoded data removed]",
      "text/plain": [
       "<Figure size 600x1000 with 1 Axes>"
      ]
     },
     "metadata": {},
     "output_type": "display_data"
    }
   ],
   "source": [
    "dond.pivot(columns = 'Gender', values = 'Amount Won').plot(kind = 'box', figsize = (6, 10))"
   ]
  },
  {
   "cell_type": "code",
   "execution_count": 157,
   "id": "060c4b3c",
   "metadata": {},
   "outputs": [
    {
     "data": {
      "text/plain": [
       "<AxesSubplot:>"
      ]
     },
     "execution_count": 157,
     "metadata": {},
     "output_type": "execute_result"
    },
    {
     "data": {
      "image/png": "[encoded data removed]",
      "text/plain": [
       "<Figure size 600x600 with 1 Axes>"
      ]
     },
     "metadata": {},
     "output_type": "display_data"
    }
   ],
   "source": [
    "dond.pivot(columns = 'Education', values = 'Amount Won').plot(kind = 'box', figsize = (6, 6))"
   ]
  },
  {
   "cell_type": "code",
   "execution_count": 176,
   "id": "2c29f553",
   "metadata": {},
   "outputs": [
    {
     "data": {
      "text/html": [
       "<div>\n",
       "<style scoped>\n",
       "    .dataframe tbody tr th:only-of-type {\n",
       "        vertical-align: middle;\n",
       "    }\n",
       "\n",
       "    .dataframe tbody tr th {\n",
       "        vertical-align: top;\n",
       "    }\n",
       "\n",
       "    .dataframe thead tr th {\n",
       "        text-align: left;\n",
       "    }\n",
       "\n",
       "    .dataframe thead tr:last-of-type th {\n",
       "        text-align: right;\n",
       "    }\n",
       "</style>\n",
       "<table border=\"1\" class=\"dataframe\">\n",
       "  <thead>\n",
       "    <tr>\n",
       "      <th></th>\n",
       "      <th colspan=\"4\" halign=\"left\">Amount Won</th>\n",
       "    </tr>\n",
       "    <tr>\n",
       "      <th></th>\n",
       "      <th>mean</th>\n",
       "      <th>median</th>\n",
       "      <th>min</th>\n",
       "      <th>max</th>\n",
       "    </tr>\n",
       "    <tr>\n",
       "      <th>Education</th>\n",
       "      <th></th>\n",
       "      <th></th>\n",
       "      <th></th>\n",
       "      <th></th>\n",
       "    </tr>\n",
       "  </thead>\n",
       "  <tbody>\n",
       "    <tr>\n",
       "      <th>H</th>\n",
       "      <td>196485.659026</td>\n",
       "      <td>99000.0</td>\n",
       "      <td>5</td>\n",
       "      <td>1495000</td>\n",
       "    </tr>\n",
       "    <tr>\n",
       "      <th>L</th>\n",
       "      <td>125141.075472</td>\n",
       "      <td>94000.0</td>\n",
       "      <td>8</td>\n",
       "      <td>525000</td>\n",
       "    </tr>\n",
       "  </tbody>\n",
       "</table>\n",
       "</div>"
      ],
      "text/plain": [
       "              Amount Won                      \n",
       "                    mean   median min      max\n",
       "Education                                     \n",
       "H          196485.659026  99000.0   5  1495000\n",
       "L          125141.075472  94000.0   8   525000"
      ]
     },
     "execution_count": 176,
     "metadata": {},
     "output_type": "execute_result"
    }
   ],
   "source": [
    "dond.groupby('Education')[['Amount Won']].agg(['mean','median','min','max'])"
   ]
  },
  {
   "cell_type": "markdown",
   "id": "38d4e7c8",
   "metadata": {},
   "source": [
    "Some scatterplots"
   ]
  },
  {
   "cell_type": "code",
   "execution_count": 163,
   "id": "2343b5d9",
   "metadata": {},
   "outputs": [
    {
     "data": {
      "text/html": [
       "<div>\n",
       "<style scoped>\n",
       "    .dataframe tbody tr th:only-of-type {\n",
       "        vertical-align: middle;\n",
       "    }\n",
       "\n",
       "    .dataframe tbody tr th {\n",
       "        vertical-align: top;\n",
       "    }\n",
       "\n",
       "    .dataframe thead tr th {\n",
       "        text-align: left;\n",
       "    }\n",
       "\n",
       "    .dataframe thead tr:last-of-type th {\n",
       "        text-align: right;\n",
       "    }\n",
       "</style>\n",
       "<table border=\"1\" class=\"dataframe\">\n",
       "  <thead>\n",
       "    <tr>\n",
       "      <th></th>\n",
       "      <th colspan=\"4\" halign=\"left\">Amount Won</th>\n",
       "    </tr>\n",
       "    <tr>\n",
       "      <th></th>\n",
       "      <th>mean</th>\n",
       "      <th>median</th>\n",
       "      <th>min</th>\n",
       "      <th>max</th>\n",
       "    </tr>\n",
       "    <tr>\n",
       "      <th>Gender</th>\n",
       "      <th></th>\n",
       "      <th></th>\n",
       "      <th></th>\n",
       "      <th></th>\n",
       "    </tr>\n",
       "  </thead>\n",
       "  <tbody>\n",
       "    <tr>\n",
       "      <th>F</th>\n",
       "      <td>158730.147541</td>\n",
       "      <td>94000.0</td>\n",
       "      <td>5</td>\n",
       "      <td>1495000</td>\n",
       "    </tr>\n",
       "    <tr>\n",
       "      <th>M</th>\n",
       "      <td>165623.375691</td>\n",
       "      <td>100000.0</td>\n",
       "      <td>8</td>\n",
       "      <td>816000</td>\n",
       "    </tr>\n",
       "  </tbody>\n",
       "</table>\n",
       "</div>"
      ],
      "text/plain": [
       "           Amount Won                       \n",
       "                 mean    median min      max\n",
       "Gender                                      \n",
       "F       158730.147541   94000.0   5  1495000\n",
       "M       165623.375691  100000.0   8   816000"
      ]
     },
     "execution_count": 163,
     "metadata": {},
     "output_type": "execute_result"
    }
   ],
   "source": [
    "dond.groupby('Gender')[['Amount Won']].agg(['mean','median','min','max'])"
   ]
  },
  {
   "cell_type": "code",
   "execution_count": 160,
   "id": "23992d54",
   "metadata": {
    "scrolled": true
   },
   "outputs": [
    {
     "data": {
      "text/plain": [
       "<AxesSubplot:xlabel='Stop Round', ylabel='Amount Won'>"
      ]
     },
     "execution_count": 160,
     "metadata": {},
     "output_type": "execute_result"
    },
    {
     "data": {
      "image/png": "[encoded data removed]",
      "text/plain": [
       "<Figure size 640x480 with 1 Axes>"
      ]
     },
     "metadata": {},
     "output_type": "display_data"
    }
   ],
   "source": [
    "dond.plot(kind = 'scatter', x='Stop Round', y = 'Amount Won')"
   ]
  },
  {
   "cell_type": "code",
   "execution_count": 161,
   "id": "c1c7f751",
   "metadata": {},
   "outputs": [
    {
     "data": {
      "text/plain": [
       "<AxesSubplot:xlabel='Age', ylabel='Amount Won'>"
      ]
     },
     "execution_count": 161,
     "metadata": {},
     "output_type": "execute_result"
    },
    {
     "data": {
      "image/png": "[encoded data removed]",
      "text/plain": [
       "<Figure size 640x480 with 1 Axes>"
      ]
     },
     "metadata": {},
     "output_type": "display_data"
    }
   ],
   "source": [
    "dond.plot(kind = 'scatter', x='Age', y = 'Amount Won')"
   ]
  },
  {
   "cell_type": "code",
   "execution_count": null,
   "id": "b629394b",
   "metadata": {},
   "outputs": [],
   "source": []
  }
 ],
 "metadata": {
  "kernelspec": {
   "display_name": "Python 3 (ipykernel)",
   "language": "python",
   "name": "python3"
  },
  "language_info": {
   "codemirror_mode": {
    "name": "ipython",
    "version": 3
   },
   "file_extension": ".py",
   "mimetype": "text/x-python",
   "name": "python",
   "nbconvert_exporter": "python",
   "pygments_lexer": "ipython3",
   "version": "3.9.12"
  }
 },
 "nbformat": 4,
 "nbformat_minor": 5
}
